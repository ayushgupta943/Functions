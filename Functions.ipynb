{
  "nbformat": 4,
  "nbformat_minor": 0,
  "metadata": {
    "colab": {
      "provenance": []
    },
    "kernelspec": {
      "name": "python3",
      "display_name": "Python 3"
    },
    "language_info": {
      "name": "python"
    }
  },
  "cells": [
    {
      "cell_type": "markdown",
      "source": [
        "# FUNCTIONS\n"
      ],
      "metadata": {
        "id": "WfitnQKCoAXH"
      }
    },
    {
      "cell_type": "markdown",
      "source": [
        "1. What is the difference between a function and a method in Python?\n",
        "  - Function: A function is a block of reusable code that performs a specific   task.\n",
        "   You define it once and use it many times.\n",
        "\n",
        "    Example: def add(a, b): return a + b\n",
        "\n",
        "  - Method: A function that is associated with an object (usually a class).\n",
        "\n",
        "     Example: str.upper() is a method of string objects.\n",
        "\n",
        "2. Explain the concept of function arguments and parameters in Python.\n",
        "- Parameters:\n",
        "\n",
        "  -These are the placeholders in the function definition.\n",
        "\n",
        "  -They define what kind of inputs the function can accept.\n",
        "\n",
        "\n",
        "      def greet(name):  # 'name' is a parameter\n",
        "\n",
        "      print(\"Hello\", name)\n",
        "\n",
        "- Arguments:\n",
        "\n",
        " -These are the actual values passed to a function when it is called.\n",
        "\n",
        "\n",
        "       greet(\"Ayush\")  # \"Ayush\" is an argument\n",
        "\n",
        "3. What are the different ways to define and call a function in Python?\n",
        "\n",
        "- functions can be defined using the def keyword or lambda for anonymous functions. They can be called using their name followed by parentheses.\n",
        "\n",
        " -Ways to define a function:\n",
        "\n",
        " 1.Using def:\n",
        "  \n",
        "      def add(a, b):\n",
        "      return a + b\n",
        "\n",
        " 2.Using lambda:\n",
        "\n",
        "       add = lambda a, b: a + b\n",
        "\n",
        " -Ways to call a function:\n",
        "\n",
        " 1.Using positional arguments:\n",
        "     \n",
        "      add(2, 3)\n",
        "\n",
        " 2.Using keyword arguments:\n",
        "\n",
        "      add(a=2, b=3)\n",
        "\n",
        "    These are the standard ways to define and call functions in Python.\n",
        "\n",
        "4. What is the purpose of the `return` statement in a Python function?\n",
        "\n",
        "- The return statement in a Python function is used to send the result (value) back to the caller. It ends the function and gives back the output.\n",
        "\n",
        "  Example:\n",
        "\n",
        "        def add(a, b):\n",
        "            return a + b\n",
        "\n",
        "        result = add(2, 3)\n",
        "        print(result)  # Output: 5\n",
        "\n",
        "5. What are iterators in Python and how do they differ from iterables?\n",
        "- In Python, an iterator is an object that allows traversal through all the elements of a collection, one element at a time, using the __next__() method.\n",
        "\n",
        "- An iterable is an object that can return an iterator using the __iter__() method.\n",
        "\n",
        "\n",
        "  Difference:\n",
        "\n",
        "  Iterable: Can be looped over (e.g., list, tuple, string).\n",
        "\n",
        "  Iterator: Produces one item at a time using next().\n",
        "\n",
        "\n",
        "  -Example:\n",
        "        \n",
        "\n",
        "    nums = [1, 2, 3]        # Iterable\n",
        "    it = iter(nums)         # Iterator\n",
        "    print(next(it))         # Output: 1\n",
        "\n",
        "6. Explain the concept of generators in Python and how they are defined.\n",
        "\n",
        "- In Python, generators are special functions that return an iterator using the yield keyword. They generate values one at a time and are memory efficient.\n",
        "\n",
        "\n",
        "    Defined using:\n",
        "    The def keyword and yield inside the function.\n",
        "\n",
        "    Example:\n",
        "\n",
        "    def my_gen():\n",
        "    yield 1\n",
        "    yield 2\n",
        "    yield 3\n",
        "\n",
        "    Usage:\n",
        "\n",
        "    gen = my_gen()\n",
        "    print(next(gen))  # Output: 1\n",
        "\n",
        "    Purpose:\n",
        "    To produce a sequence of values lazily, one at a time.\n",
        "\n",
        "7. What are the advantages of using generators over regular functions?\n",
        "\n",
        "- Generators have the following advantages over regular functions:\n",
        "\n",
        "- Memory Efficient – They yield one item at a time, so they don’t store the entire data in memory.\n",
        "\n",
        "- Faster Execution – Start producing values immediately without waiting to compute the full result.\n",
        "\n",
        "- Lazy Evaluation – Values are generated only when needed using next().\n",
        "\n",
        "- Simpler Code – Easier to write and manage using yield instead of creating and managing iterators manually.\n",
        "\n",
        "8. What is a lambda function in Python and when is it typically used?\n",
        "\n",
        "- A lambda function in Python is a small anonymous function defined using the lambda keyword. It can have any number of arguments but only one expression.\n",
        "-Used when:\n",
        "\n",
        "  A short, throwaway function is needed\n",
        "\n",
        "  Commonly used with map(), filter(), and sorted() functions.\n",
        "\n",
        "9.  Explain the purpose and usage of the `map()` function in Python?\n",
        "- The map() function in Python is used to apply a given function to each item of an iterable (like a list) and return a new map object (an iterator).\n",
        "\n",
        "      nums = [1, 2, 3, 4]\n",
        "\n",
        "      squared = map(lambda x: x * x, nums)\n",
        "      \n",
        "      print(list(squared))  # Output: [1, 4, 9, 16]\n",
        "\n",
        "  Purpose:\n",
        "  To perform transformations on all elements of an iterable without using a loop.\n",
        "\n",
        "\n",
        "10.What is the difference between `map()`, `reduce()`, and `filter()` functions in Python?\n",
        "\n",
        "- Difference between map(), filter(), and reduce() in Python:\n",
        "  \n",
        "  1.map()\n",
        "\n",
        "  -Applies a function to each item in an iterable.\n",
        "\n",
        "  -Returns a map object (iterator).\n",
        "\n",
        "  -Example:\n",
        "\n",
        "      map(lambda x: x*2, [1, 2, 3])  # → [2, 4, 6]\n",
        "\n",
        "  2.filter()\n",
        "\n",
        "  -Filters items based on a condition (True/False).\n",
        "\n",
        "  -Returns a filter object (iterator).\n",
        "\n",
        "  -Example:\n",
        "\n",
        "      filter(lambda x: x%2==0, [1, 2, 3])  # → [2]\n",
        "\n",
        " 3.reduce()\n",
        "\n",
        "  -Applies a function cumulatively to reduce the iterable to a single value.\n",
        "\n",
        "  -Returns a single value.\n",
        "\n",
        "  -Needs to be imported from functools.\n",
        "\n",
        "      from functools import reduce\n",
        "      \n",
        "      reduce(lambda x, y: x + y, [1, 2, 3])  # → 6\n",
        "\n",
        "\n",
        "11. Using pen & Paper write the internal mechanism for sum operation using  reduce function on this given list:[47,11,42,13];\n",
        "![WhatsApp Image 2025-07-16 at 21.18.21.jpeg](data:image/jpeg;base64,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)\n",
        "\n",
        "\n",
        "\n",
        "\n",
        "\n",
        "\n",
        "\n",
        "\n",
        "\n",
        "\n",
        "\n",
        "\n",
        "\n",
        "\n",
        "\n",
        "\n"
      ],
      "metadata": {
        "id": "vP16MpVeoxFx"
      }
    },
    {
      "cell_type": "code",
      "source": [
        "#1. Write a Python function that takes a list of numbers as input and returns the sum of all even numbers in the list\n",
        "\n",
        "def sum_even_numbers(numbers):\n",
        "    even_sum = 0\n",
        "    for num in numbers:\n",
        "        if num % 2 == 0:\n",
        "            even_sum += num\n",
        "    return even_sum\n",
        "\n",
        "nums = [1, 2, 3, 4, 5, 6]\n",
        "\n",
        "\n",
        "result = sum_even_numbers(nums)\n",
        "\n",
        "\n",
        "print(\"Sum of even numbers:\", result)\n"
      ],
      "metadata": {
        "colab": {
          "base_uri": "https://localhost:8080/"
        },
        "id": "3U-_b8Yz8tZL",
        "outputId": "748c41c3-2c79-4a1a-daf9-df01521e137b"
      },
      "execution_count": 2,
      "outputs": [
        {
          "output_type": "stream",
          "name": "stdout",
          "text": [
            "Sum of even numbers: 12\n"
          ]
        }
      ]
    },
    {
      "cell_type": "code",
      "source": [
        "#2. Create a Python function that accepts a string and returns the reverse of that string.\n",
        "\n",
        "def reverse_string(text):\n",
        "    return text[::-1]\n",
        "\n",
        "\n",
        "input_str = \"Hello World\"\n",
        "\n",
        "reversed_str = reverse_string(input_str)\n",
        "\n",
        "\n",
        "print(\"Reversed string:\", reversed_str)\n"
      ],
      "metadata": {
        "colab": {
          "base_uri": "https://localhost:8080/"
        },
        "id": "3lJ4mk7A9Kx3",
        "outputId": "d328eb7d-e507-45c6-a1a9-e064a19549e3"
      },
      "execution_count": 3,
      "outputs": [
        {
          "output_type": "stream",
          "name": "stdout",
          "text": [
            "Reversed string: dlroW olleH\n"
          ]
        }
      ]
    },
    {
      "cell_type": "code",
      "source": [
        "#3. Implement a Python function that takes a list of integers and returns a new list containing the squares of each number.\n",
        "\n",
        "def square_numbers(numbers):\n",
        "    squared_list = []\n",
        "    for num in numbers:\n",
        "        squared_list.append(num ** 2)\n",
        "    return squared_list\n",
        "\n",
        "nums = [1, 2, 3, 4, 5]\n",
        "\n",
        "\n",
        "squares = square_numbers(nums)\n",
        "\n",
        "\n",
        "print(\"List of squares:\", squares)\n"
      ],
      "metadata": {
        "colab": {
          "base_uri": "https://localhost:8080/"
        },
        "id": "WsvziASb9YDj",
        "outputId": "52e5d4ff-2f37-440b-bb77-2cfe527962f2"
      },
      "execution_count": 4,
      "outputs": [
        {
          "output_type": "stream",
          "name": "stdout",
          "text": [
            "List of squares: [1, 4, 9, 16, 25]\n"
          ]
        }
      ]
    },
    {
      "cell_type": "code",
      "source": [
        "#4. Write a Python function that checks if a given number is prime or not from 1 to 200\n",
        "\n",
        "def is_prime(n):\n",
        "    if n <= 1:\n",
        "        return False\n",
        "    for i in range(2, int(n**0.5)+1):\n",
        "        if n % i == 0:\n",
        "            return False\n",
        "    return True\n",
        "\n",
        "\n",
        "for num in range(1, 201):\n",
        "    if is_prime(num):\n",
        "        print(num, \"is a prime number\")\n"
      ],
      "metadata": {
        "colab": {
          "base_uri": "https://localhost:8080/"
        },
        "collapsed": true,
        "id": "E8flbd_69nuH",
        "outputId": "bc7f36ff-ae2f-4108-c297-6a6022242fcc"
      },
      "execution_count": 5,
      "outputs": [
        {
          "output_type": "stream",
          "name": "stdout",
          "text": [
            "2 is a prime number\n",
            "3 is a prime number\n",
            "5 is a prime number\n",
            "7 is a prime number\n",
            "11 is a prime number\n",
            "13 is a prime number\n",
            "17 is a prime number\n",
            "19 is a prime number\n",
            "23 is a prime number\n",
            "29 is a prime number\n",
            "31 is a prime number\n",
            "37 is a prime number\n",
            "41 is a prime number\n",
            "43 is a prime number\n",
            "47 is a prime number\n",
            "53 is a prime number\n",
            "59 is a prime number\n",
            "61 is a prime number\n",
            "67 is a prime number\n",
            "71 is a prime number\n",
            "73 is a prime number\n",
            "79 is a prime number\n",
            "83 is a prime number\n",
            "89 is a prime number\n",
            "97 is a prime number\n",
            "101 is a prime number\n",
            "103 is a prime number\n",
            "107 is a prime number\n",
            "109 is a prime number\n",
            "113 is a prime number\n",
            "127 is a prime number\n",
            "131 is a prime number\n",
            "137 is a prime number\n",
            "139 is a prime number\n",
            "149 is a prime number\n",
            "151 is a prime number\n",
            "157 is a prime number\n",
            "163 is a prime number\n",
            "167 is a prime number\n",
            "173 is a prime number\n",
            "179 is a prime number\n",
            "181 is a prime number\n",
            "191 is a prime number\n",
            "193 is a prime number\n",
            "197 is a prime number\n",
            "199 is a prime number\n"
          ]
        }
      ]
    },
    {
      "cell_type": "code",
      "source": [
        "#5. Create an iterator class in Python that generates the Fibonacci sequence up to a specified number of terms.\n",
        "\n",
        "class FibonacciIterator:\n",
        "    def __init__(self, max_terms):\n",
        "        self.max_terms = max_terms\n",
        "        self.count = 0\n",
        "        self.a = 0\n",
        "        self.b = 1\n",
        "\n",
        "    def __iter__(self):\n",
        "        return self\n",
        "\n",
        "    def __next__(self):\n",
        "        if self.count >= self.max_terms:\n",
        "            raise StopIteration\n",
        "        if self.count == 0:\n",
        "            self.count += 1\n",
        "            return self.a\n",
        "        elif self.count == 1:\n",
        "            self.count += 1\n",
        "            return self.b\n",
        "        else:\n",
        "            self.a, self.b = self.b, self.a + self.b\n",
        "            self.count += 1\n",
        "            return self.b\n",
        "\n",
        "\n",
        "fib = FibonacciIterator(10)\n",
        "\n",
        "for num in fib:\n",
        "    print(num)\n"
      ],
      "metadata": {
        "colab": {
          "base_uri": "https://localhost:8080/"
        },
        "id": "hnJRenQo94Mx",
        "outputId": "662835c3-0fd3-4066-cfbb-dbe4df9fa2b4"
      },
      "execution_count": 6,
      "outputs": [
        {
          "output_type": "stream",
          "name": "stdout",
          "text": [
            "0\n",
            "1\n",
            "1\n",
            "2\n",
            "3\n",
            "5\n",
            "8\n",
            "13\n",
            "21\n",
            "34\n"
          ]
        }
      ]
    },
    {
      "cell_type": "code",
      "source": [
        "#6. Write a generator function in Python that yields the powers of 2 up to a given exponent\n",
        "\n",
        "def powers_of_two(max_exp):\n",
        "    for i in range(max_exp + 1):\n",
        "        yield 2 ** i\n",
        "\n",
        "\n",
        "for power in powers_of_two(5):\n",
        "    print(power)\n"
      ],
      "metadata": {
        "colab": {
          "base_uri": "https://localhost:8080/"
        },
        "id": "q1MSqiYy-FOO",
        "outputId": "6d178a2a-750f-4207-ad54-f766ffbe391b"
      },
      "execution_count": 7,
      "outputs": [
        {
          "output_type": "stream",
          "name": "stdout",
          "text": [
            "1\n",
            "2\n",
            "4\n",
            "8\n",
            "16\n",
            "32\n"
          ]
        }
      ]
    },
    {
      "cell_type": "code",
      "source": [
        "#7.  Implement a generator function that reads a file line by line and yields each line as a string\n",
        "\n",
        "with open('example.txt', 'w') as f:\n",
        "    f.write(\"This is line 1\\n\")\n",
        "    f.write(\"This is line 2\\n\")\n",
        "    f.write(\"This is line 3\\n\")\n",
        "    f.write(\"This is line 4\\n\")\n",
        "\n",
        "def read_file_line_by_line(file_path):\n",
        "    with open(file_path, 'r') as file:\n",
        "        for line in file:\n",
        "            yield line.strip()\n",
        "\n",
        "\n",
        "print(\"Reading file line by line:\\n\")\n",
        "for line in read_file_line_by_line('example.txt'):\n",
        "    print(line)\n"
      ],
      "metadata": {
        "colab": {
          "base_uri": "https://localhost:8080/"
        },
        "id": "Uw5cHRsE-muE",
        "outputId": "db88fcf8-5bd3-41f4-aa10-c754b9b038b5"
      },
      "execution_count": 11,
      "outputs": [
        {
          "output_type": "stream",
          "name": "stdout",
          "text": [
            "Reading file line by line:\n",
            "\n",
            "This is line 1\n",
            "This is line 2\n",
            "This is line 3\n",
            "This is line 4\n"
          ]
        }
      ]
    },
    {
      "cell_type": "code",
      "source": [
        "#8 Use a lambda function in Python to sort a list of tuples based on the second element of each tuple.\n",
        "\n",
        "data = [(1, 5), (3, 2), (4, 8), (2, 1)]\n",
        "\n",
        "sorted_data = sorted(data, key=lambda x: x[1])\n",
        "\n",
        "print(\"Sorted list based on second element:\", sorted_data)\n"
      ],
      "metadata": {
        "colab": {
          "base_uri": "https://localhost:8080/"
        },
        "id": "_G5ONzji_BIu",
        "outputId": "c5f8ab94-d750-494d-91c1-7262d91775dc"
      },
      "execution_count": 12,
      "outputs": [
        {
          "output_type": "stream",
          "name": "stdout",
          "text": [
            "Sorted list based on second element: [(2, 1), (3, 2), (1, 5), (4, 8)]\n"
          ]
        }
      ]
    },
    {
      "cell_type": "code",
      "source": [
        "#9 Write a Python program that uses `map()` to convert a list of temperatures from Celsius to Fahrenheit.\n",
        "\n",
        "celsius_temps = [0, 20, 37, 100]\n",
        "\n",
        "\n",
        "fahrenheit_temps = list(map(lambda c: (c * 9/5) + 32, celsius_temps))\n",
        "\n",
        "\n",
        "print(\"Temperatures in Fahrenheit:\", fahrenheit_temps)\n"
      ],
      "metadata": {
        "colab": {
          "base_uri": "https://localhost:8080/"
        },
        "id": "OUDKpuIo_Q0X",
        "outputId": "c62bfe32-c927-4eb9-a2e4-673e21187685"
      },
      "execution_count": 13,
      "outputs": [
        {
          "output_type": "stream",
          "name": "stdout",
          "text": [
            "Temperatures in Fahrenheit: [32.0, 68.0, 98.6, 212.0]\n"
          ]
        }
      ]
    },
    {
      "cell_type": "code",
      "source": [
        "#10  Create a Python program that uses `filter()` to remove all the vowels from a given string.\n",
        "\n",
        "text = \"Hello, World! This is Python.\"\n",
        "\n",
        "\n",
        "vowels = 'aeiouAEIOU'\n",
        "\n",
        "no_vowels = ''.join(filter(lambda char: char not in vowels, text))\n",
        "\n",
        "\n",
        "print(\"String without vowels:\", no_vowels)\n"
      ],
      "metadata": {
        "colab": {
          "base_uri": "https://localhost:8080/"
        },
        "id": "DEe3Idfp_XrT",
        "outputId": "8cc13723-51ca-4a1c-e7fd-56aa9cb9dbdc"
      },
      "execution_count": 14,
      "outputs": [
        {
          "output_type": "stream",
          "name": "stdout",
          "text": [
            "String without vowels: Hll, Wrld! Ths s Pythn.\n"
          ]
        }
      ]
    },
    {
      "cell_type": "code",
      "source": [
        "#11. Imagine an accounting routine used in a book shop. It works on a list with sublists, which look like this:\n",
        "#Write a Python program, which returns a list with 2-tuples. Each tuple consists of the order number and the\n",
        "#product of the price per item and the quantity. The product should be increased by 10,- € if the value of the\n",
        "#order is smaller than 100,00 €.\n",
        "#Write a Python program using lambda and map.\n",
        "\n",
        "\n",
        "# Original list of orders\n",
        "orders = [\n",
        "    [34587, \"Learning Python, Mark Lutz\", 4, 40.95],\n",
        "    [98762, \"Programming Python, Mark Lutz\", 5, 56.80],\n",
        "    [77226, \"Head First Python, Paul Barry\", 3, 32.95],\n",
        "    [88112, \"Einführung in Python3, Bernd Klein\", 3, 24.99]\n",
        "]\n",
        "\n",
        "# Using lambda and map to process the orders\n",
        "final_prices = list(map(\n",
        "    lambda order: (\n",
        "        order[0],\n",
        "        round(order[2] * order[3] + (10 if order[2] * order[3] < 100 else 0), 2)\n",
        "    ),\n",
        "    orders\n",
        "))\n",
        "\n",
        "# Display result\n",
        "print(final_prices)\n",
        "\n"
      ],
      "metadata": {
        "colab": {
          "base_uri": "https://localhost:8080/"
        },
        "id": "FctPVV44_kHu",
        "outputId": "edbf8e35-0df7-4636-be21-f69e03f6890a"
      },
      "execution_count": 15,
      "outputs": [
        {
          "output_type": "stream",
          "name": "stdout",
          "text": [
            "[(34587, 163.8), (98762, 284.0), (77226, 108.85), (88112, 84.97)]\n"
          ]
        }
      ]
    }
  ]
}